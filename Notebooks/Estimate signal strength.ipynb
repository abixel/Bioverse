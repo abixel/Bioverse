{
 "metadata": {
  "language_info": {
   "codemirror_mode": {
    "name": "ipython",
    "version": 3
   },
   "file_extension": ".py",
   "mimetype": "text/x-python",
   "name": "python",
   "nbconvert_exporter": "python",
   "pygments_lexer": "ipython3",
   "version": "3.7.4-final"
  },
  "orig_nbformat": 2,
  "kernelspec": {
   "name": "python3",
   "display_name": "Python 3",
   "language": "python"
  }
 },
 "nbformat": 4,
 "nbformat_minor": 2,
 "cells": [
  {
   "cell_type": "code",
   "execution_count": null,
   "metadata": {},
   "outputs": [],
   "source": [
    "import numpy as np\n",
    "from matplotlib import pyplot as plt\n",
    "from scipy.optimize import minimize\n",
    "\n",
    "SPECTRA_DIR = '../Templates/Spectra/'"
   ]
  },
  {
   "cell_type": "code",
   "execution_count": null,
   "metadata": {},
   "outputs": [],
   "source": [
    "def estimate_significance(xmin, xmax, y, x, dy):\n",
    "    mask = (x>xmin)&(x<xmax)\n",
    "    return np.sum((y[mask]/dy[mask])**2)**0.5\n",
    "\n",
    "def estimate_required_time(snr, time):\n",
    "    f = (snr/5)**-2\n",
    "    t_req = time*f\n",
    "    print(\"Required observing time: {:.2f} hr\".format(t_req/3600))"
   ]
  },
  {
   "cell_type": "code",
   "execution_count": null,
   "metadata": {},
   "outputs": [],
   "source": [
    "# Imaging mode, H2O\n",
    "x, y1, yerr = np.loadtxt(SPECTRA_DIR+'/imaging_nir_1hr.dat', unpack=True, usecols=(0,1,2))\n",
    "x, y2 = np.loadtxt(SPECTRA_DIR+'/imaging_nir_1hr_noH2O.dat', unpack=True, usecols=(0,1))\n",
    "\n",
    "s1 = estimate_significance(1.3, 1.6, y2-y1, x, yerr)\n",
    "estimate_required_time(s1, time=1*3600.)\n",
    "\n",
    "# 1.9 micron feature (not used)\n",
    "#s2 = estimate_significance(1.7, 2.0, y2-y1, x, yerr)\n",
    "#estimate_required_time(s2, time=1*3600.)"
   ]
  },
  {
   "cell_type": "code",
   "execution_count": null,
   "metadata": {},
   "outputs": [],
   "source": [
    "# Imaging mode, O2\n",
    "x, y1, yerr = np.loadtxt(SPECTRA_DIR+'/imaging_vis_3hr.dat', unpack=True, usecols=(0,1,2))\n",
    "x, y2 = np.loadtxt(SPECTRA_DIR+'/imaging_vis_3hr_noO2.dat', unpack=True, usecols=(0,1))\n",
    "\n",
    "s1 = estimate_significance(0.75, 0.78, y2-y1, x, yerr)\n",
    "estimate_required_time(s1, time=3*3600.)"
   ]
  },
  {
   "cell_type": "code",
   "execution_count": null,
   "metadata": {},
   "outputs": [],
   "source": [
    "# Transit mode, H2O\n",
    "x, y1, yerr = np.loadtxt(SPECTRA_DIR+'/transit_100hr.dat', unpack=True, usecols=(0,1,2))\n",
    "x2, y2 = np.loadtxt(SPECTRA_DIR+'/transit_100hr_noH2O.dat', unpack=True, usecols=(0,1))\n",
    "\n",
    "s1 = estimate_significance(1.3, 1.6, y1-y2, x, yerr)\n",
    "s2 = estimate_significance(1.7, 2.0, y1-y2, x, yerr)\n",
    "estimate_required_time((s1**2+s2**2)**0.5, time=100*3600.)"
   ]
  },
  {
   "cell_type": "code",
   "execution_count": null,
   "metadata": {},
   "outputs": [],
   "source": [
    "# Transit mode, O3\n",
    "x, y1, yerr = np.loadtxt(SPECTRA_DIR+'/transit_100hr.dat', unpack=True, usecols=(0,1,2))\n",
    "x2, y2 = np.loadtxt(SPECTRA_DIR+'/transit_100hr_noO3.dat', unpack=True, usecols=(0,1))\n",
    "\n",
    "s1 = estimate_significance(0.4, 0.8, y1-y2, x, yerr)\n",
    "estimate_required_time(s1, time=100*3600.)"
   ]
  },
  {
   "cell_type": "code",
   "execution_count": null,
   "metadata": {},
   "outputs": [],
   "source": []
  }
 ]
}