{
 "cells": [
  {
   "cell_type": "markdown",
   "metadata": {},
   "source": [
    "First, we'll import the Bioverse code:"
   ]
  },
  {
   "cell_type": "code",
   "execution_count": null,
   "metadata": {},
   "outputs": [],
   "source": [
    "# Append the main \"Bioverse\" directory to the system path\n",
    "import sys\n",
    "sys.path = ['../'] + sys.path\n",
    "\n",
    "# Import the \"Bioverse\" modules\n",
    "from bio import analysis, classes, plots\n",
    "\n",
    "# Import pyplot (for making plots later) and adjust some of its settings\n",
    "from matplotlib import pyplot as plt\n",
    "%matplotlib inline\n",
    "plt.rcParams['font.size'] = 20."
   ]
  },
  {
   "cell_type": "markdown",
   "metadata": {},
   "source": [
    "Next, we'll simulate a sample of planets within 30 parsecs using the Chabrier (2003) IMF to create the stars and a modification of SAG13 planet occurrence rates to create the planetary systems."
   ]
  },
  {
   "cell_type": "code",
   "execution_count": null,
   "metadata": {},
   "outputs": [],
   "source": [
    "# Load the \"Generator\" object\n",
    "generator = classes.Generator('IMF_SAG13')\n",
    "\n",
    "# Run the generator to create a simulated planet sample within 30 parsecs\n",
    "sample = generator.generate(d_max=30)"
   ]
  },
  {
   "cell_type": "markdown",
   "metadata": {},
   "source": [
    "We can use the `pandas` Python package to display the simulated sample as a table (you can skip this if you don't have `pandas` installed)."
   ]
  },
  {
   "cell_type": "code",
   "execution_count": null,
   "metadata": {},
   "outputs": [],
   "source": [
    "from pandas import DataFrame\n",
    "DataFrame(sample)"
   ]
  },
  {
   "cell_type": "markdown",
   "metadata": {},
   "source": [
    "This line will describe all of the parameters simulated by `Bioverse`."
   ]
  },
  {
   "cell_type": "code",
   "execution_count": null,
   "metadata": {},
   "outputs": [],
   "source": [
    "sample.legend()"
   ]
  },
  {
   "cell_type": "markdown",
   "metadata": {},
   "source": [
    "Let's take a look at the statistics of planets in the sample. For example, the number of planets versus period and radius. Note that there is an upper limit on period and a lower limit on planet size (typically these planets are not detectable anyways)."
   ]
  },
  {
   "cell_type": "code",
   "execution_count": null,
   "metadata": {},
   "outputs": [],
   "source": [
    "fig, ax = plt.subplots(ncols=2, figsize=(16,8))\n",
    "\n",
    "# Period histogram\n",
    "P = sample['P']\n",
    "bins = np.logspace(0, 4, 100)\n",
    "ax[0].hist(P, bins=bins)\n",
    "ax[0].set_xscale('log')\n",
    "ax[0].set_yscale('log')\n",
    "ax[0].set_xlabel('Period (d)', fontsize=24)\n",
    "ax[0].set_ylabel('Number of planets', fontsize=24)\n",
    "\n",
    "# Radius histogram\n",
    "R = sample['R']\n",
    "bins = np.logspace(-0.5,1,100)\n",
    "ax[1].hist(R, bins=bins)\n",
    "ax[1].set_xscale('log')\n",
    "ax[1].set_yscale('log')\n",
    "ax[1].set_xlabel('Radius ($R_\\oplus$)', fontsize=24)\n",
    "ax[1].set_ylabel('Number of planets', fontsize=24)\n",
    "\n",
    "plt.subplots_adjust(wspace=0.3)"
   ]
  },
  {
   "cell_type": "markdown",
   "metadata": {},
   "source": [
    "Now let's create a simulated data set for a LUVOIR-like direct imaging mission."
   ]
  },
  {
   "cell_type": "code",
   "execution_count": null,
   "metadata": {},
   "outputs": [],
   "source": [
    "# Load a new \"Generator\" object which draws targets from the Hipparcos stellar catalog instead of a stellar IMF\n",
    "generator = classes.Generator('LUVOIR_SAG13')\n",
    "\n",
    "# Load the \"Survey\" object which describes a LUVOIR-like survey (i.e. the appropriate\n",
    "# coronagraphic field of view and limiting contrast ratio)\n",
    "survey = classes.Survey('imaging')\n",
    "\n",
    "# Simulate a new sample of planets\n",
    "sample = generator.generate()\n",
    "\n",
    "# Determine which simulated planets the survey can characterize. The new table `detected`\n",
    "# contains only planets which lie within the field of view and are bright enough to detect.\n",
    "detected = survey.compute_yield(sample)\n",
    "\n",
    "# Finally, simulate a 10% measurement of the semi-major axis for each planet, and survey some of the\n",
    "# planets to determine whether they have atmospheric H2O.\n",
    "data = survey.observe(detected)"
   ]
  },
  {
   "cell_type": "markdown",
   "metadata": {},
   "source": [
    "Note that the last three lines can be combined into one as follows:"
   ]
  },
  {
   "cell_type": "code",
   "execution_count": null,
   "metadata": {},
   "outputs": [],
   "source": [
    "sample, detected, data = survey.quickrun(generator)"
   ]
  },
  {
   "cell_type": "markdown",
   "metadata": {},
   "source": [
    "Let's take a look at the simulated data set by plotting which planets have H2O versus their insolation. You might notice that planets within the habitable zone (approx 0.3 < S < 1.1) are more likely to have water-rich atmospheres."
   ]
  },
  {
   "cell_type": "code",
   "execution_count": null,
   "metadata": {},
   "outputs": [],
   "source": [
    "# We have to compute the insolation first from the observed separation and stellar luminosity\n",
    "data['S'] = data['L_st']/data['a']**2\n",
    "x, y = data['S'], data['has_H2O']\n",
    "\n",
    "# Now plot the water-rich/water-poor planets versus insolation (in log-space)\n",
    "fig, ax = plt.subplots(figsize=(16,2))\n",
    "ax.scatter(x,y)\n",
    "ax.set_xscale('log')\n",
    "ax.set_yticks([0,1])\n",
    "ax.set_xlim([10,0.01])\n",
    "ax.set_yticklabels(['no H$_2$O','has H$_2$O'],fontsize=24)\n",
    "ax.set_xlabel('Insolation ($S_\\oplus$)',fontsize=24)\n",
    "\n",
    "# Highlight the boundaries of the habitable zone (water-rich planets should be more common here)\n",
    "ax.axvline(1.12,linestyle='dotted',c='black',lw=3)\n",
    "ax.axvline(0.36,linestyle='dotted',c='black',lw=3)"
   ]
  },
  {
   "source": [
    "One hypothesis is that planets within the habitable zone are more likely to have atmospheric water vapor than those outside of it. Let's import this hypothesis and test it with the simulated data set.\n",
    "\n",
    "Specifically, dynesty will calculate the Bayesian log-evidence (dlnZ) in favor of this \"habitable zone hypothesis\" over the null hypothesis that the presence of water vapor is uncorrelated with insolation. Values dlnZ > 3 are considered statistically significant."
   ],
   "cell_type": "markdown",
   "metadata": {}
  },
  {
   "cell_type": "code",
   "execution_count": null,
   "metadata": {},
   "outputs": [],
   "source": [
    "from hypothesis import h_HZ\n",
    "results = h_HZ.fit(data)\n",
    "\n",
    "print('Bayesian log-evidence in favor of the habitable zone hypothesis = {:.1f}'.format(results['dlnZ']))"
   ]
  },
  {
   "source": [
    "The testability of this hypothesis primarily depends on what fraction of Earth-sized, habitable zone planets have water vapor (f_water_habitable). In the previous example, it is assumed to be ~80%. Let's test the hypothesis over a grid of values of f_water_habitable. For each value, we'll repeat the simulation 20 times to average over sampling error.\n",
    "\n",
    "This may take a few minutes."
   ],
   "cell_type": "markdown",
   "metadata": {}
  },
  {
   "cell_type": "code",
   "execution_count": null,
   "metadata": {},
   "outputs": [],
   "source": [
    "f_water_habitable = np.logspace(-1, 0, 10)\n",
    "results = analysis.test_hypothesis_grid(h_HZ, generator, survey, f_water_habitable=f_water_habitable, N=20, processes=8)"
   ]
  },
  {
   "source": [
    "Run this cell to plot the typical log evidence versus f_water_habitable. Notice that as habitable planets become more common (from 10% to 100%), the evidence in favor of the habitable zone hypothesis becomes greater."
   ],
   "cell_type": "markdown",
   "metadata": {}
  },
  {
   "cell_type": "code",
   "execution_count": null,
   "metadata": {},
   "outputs": [],
   "source": [
    "plt.plot(f_water_habitable, results['dlnZ'].mean(axis=-1), lw=5)\n",
    "plt.xlabel('Fraction of EECs with H2O', fontsize=20)\n",
    "plt.ylabel('$\\Delta$lnZ', fontsize=20)\n",
    "plt.axhline(3, lw=5, c='black', linestyle='dashed')\n",
    "plt.xscale('log')"
   ]
  },
  {
   "source": [
    "A more useful metric than the average value of dlnZ is the survey's \"statistical power\", which is the likelihood that the survey could successfully test the hypothesis (dlnZ > 3). Run this cell to plot the statistical power versus the fraction of EECs with water vapor."
   ],
   "cell_type": "markdown",
   "metadata": {}
  },
  {
   "cell_type": "code",
   "execution_count": null,
   "metadata": {},
   "outputs": [],
   "source": [
    "power = analysis.compute_statistical_power(results, method='dlnZ', threshold=3)\n",
    "plt.plot(f_water_habitable, power, lw=5)\n",
    "plt.xlabel('Fraction of EECs with H2O', fontsize=20)\n",
    "plt.ylabel('Statistical power', fontsize=20)\n",
    "plt.axhline(0.8, lw=5, c='black', linestyle='dashed')\n",
    "plt.xscale('log')"
   ]
  },
  {
   "cell_type": "code",
   "execution_count": null,
   "metadata": {},
   "outputs": [],
   "source": []
  }
 ],
 "metadata": {
  "kernelspec": {
   "display_name": "Python 3",
   "language": "python",
   "name": "python3"
  },
  "language_info": {
   "codemirror_mode": {
    "name": "ipython",
    "version": 3
   },
   "file_extension": ".py",
   "mimetype": "text/x-python",
   "name": "python",
   "nbconvert_exporter": "python",
   "pygments_lexer": "ipython3",
   "version": "3.7.4-final"
  }
 },
 "nbformat": 4,
 "nbformat_minor": 2
}