{
 "cells": [
  {
   "cell_type": "code",
   "execution_count": 1,
   "metadata": {},
   "outputs": [],
   "source": [
    "import sys\n",
    "sys.path.append('../')\n",
    "from bio import *\n",
    "\n",
    "from matplotlib import pyplot as plt\n",
    "import numpy as np\n",
    "from sklearn.linear_model import LogisticRegression\n",
    "from sklearn.ensemble import RandomForestClassifier\n",
    "from sklearn.tree import DecisionTreeClassifier\n",
    "\n",
    "from scipy.optimize import brute,minimize,basinhopping\n",
    "\n",
    "%matplotlib inline\n",
    "plt.rcParams['font.size'] = 16."
   ]
  },
  {
   "cell_type": "code",
   "execution_count": 2,
   "metadata": {},
   "outputs": [
    {
     "data": {
      "image/png": "[encoded data removed]",
      "text/plain": [
       "<Figure size 1152x144 with 1 Axes>"
      ]
     },
     "metadata": {
      "needs_background": "light"
     },
     "output_type": "display_data"
    }
   ],
   "source": [
    "# Simulate a data set and extract x,y = log(S),has_H2O\n",
    "survey = classes.Survey(filename='../Objects/Surveys/LUVOIR.dat')\n",
    "generator = classes.Generator('LUVOIR_EPOS')\n",
    "\n",
    "mult = 10\n",
    "\n",
    "survey['measurements'][2]['t_total'] *= mult\n",
    "\n",
    "sample,detected,data = survey.quickrun(generator,f_water_habitable=0.8,f_water_nonhabitable=0.1,mult=mult,tau=8)\n",
    "data['S'] = data['L_st']/data['a']**2\n",
    "obs = ~np.isnan(data['has_H2O'])\n",
    "x,y = np.log10(data['S'][obs]),data['has_H2O'][obs]\n",
    "\n",
    "# Plot has_H2O versus insolation\n",
    "fig,ax = plt.subplots(figsize=(16,2))\n",
    "ax.scatter(x[:300],y[:300])\n",
    "ax.set_yticks([0,1])\n",
    "ax.set_yticklabels(['no H$_2$O','has H$_2$O'])\n",
    "ax.set_xlabel('log(S) $(S_\\oplus)$')\n",
    "\n",
    "# Calculate fraction of planets with H2O versus insolation, binned\n",
    "bins,values,errors = analysis.binned_average(x,y,bins=15)\n",
    "xb,dxb = (bins[1:]+bins[:-1])/2.,(bins[1:]-bins[:-1])/2.\n",
    "yb,dyb = values,errors"
   ]
  },
  {
   "cell_type": "code",
   "execution_count": null,
   "metadata": {},
   "outputs": [],
   "source": [
    "# Plot the fraction of planets with H2O versus insolation\n",
    "bins,values,errors = analysis.binned_average(x,y,bins=15)\n",
    "xb,dxb = (bins[1:]+bins[:-1])/2.,(bins[1:]-bins[:-1])/2.\n",
    "yb,dyb = values,errors\n",
    "\n",
    "fig,ax = plt.subplots(figsize=(16,6))\n",
    "ax.errorbar(xb,yb,xerr=dxb,yerr=dyb,marker='s',linestyle='None')\n",
    "ax.set_xlabel('log(S) $(S_\\oplus)$')\n",
    "ax.set_ylabel('Fraction of planets with H$_2$O')"
   ]
  },
  {
   "cell_type": "code",
   "execution_count": null,
   "metadata": {},
   "outputs": [],
   "source": [
    "# Train a logistic classifier to the data and get the probability of y == 1 versus x\n",
    "model = LogisticRegression()\n",
    "X = np.array([x,x**2]).T\n",
    "model.fit(X,y)\n",
    "\n",
    "xp = np.linspace(-2,1,100)\n",
    "Xp = np.array([xp,xp**2]).T\n",
    "yp = model.predict_proba(Xp)[:,1]\n",
    "\n",
    "fig,ax = plt.subplots(figsize=(16,4))\n",
    "ax.plot(xp,yp,lw=5)\n",
    "ax.errorbar(xb,yb,xerr=dxb,yerr=dyb,marker='s',linestyle='None')\n",
    "ax.set_xlabel('log(S) $(S_\\oplus)$')\n",
    "ax.set_ylabel('P(has H$_2$O)')"
   ]
  },
  {
   "cell_type": "code",
   "execution_count": null,
   "metadata": {},
   "outputs": [],
   "source": [
    "# Train a random forest classifier to the data\n",
    "model = DecisionTreeClassifier()\n",
    "X = np.array([x]).T\n",
    "model.fit(X,y)\n",
    "\n",
    "xp = np.linspace(-2,1,100)\n",
    "yp = model.predict_proba(np.transpose([xp]))[:,1]\n",
    "\n",
    "fig,ax = plt.subplots(figsize=(16,4))\n",
    "ax.plot(xp,yp,lw=5)\n",
    "ax.errorbar(xb,yb,xerr=dxb,yerr=dyb,marker='s',linestyle='None')\n",
    "ax.set_xlabel('log(S) $(S_\\oplus)$')\n",
    "ax.set_ylabel('P(has H$_2$O)')"
   ]
  },
  {
   "cell_type": "code",
   "execution_count": null,
   "metadata": {},
   "outputs": [],
   "source": [
    "# Define a box model as the probability function\n",
    "def box_model(params,x):\n",
    "    S_inner,S_outer,P_HZ,P_notHZ = params\n",
    "    in_HZ = (x>S_outer)&(x<S_inner)\n",
    "    ym = np.full(len(x),P_notHZ)\n",
    "    ym[in_HZ] = P_HZ\n",
    "    return ym\n",
    "\n",
    "# Define a cost function to be minimized\n",
    "def cost(params,x,y):\n",
    "    h = box_model(params,x)\n",
    "    terms = y*np.log(h) + (1-y)*np.log(1-h)\n",
    "    return (-1/len(x)) * np.sum(terms)\n",
    "\n",
    "# Minimize the cost function\n",
    "solution = [0.,-0.5,0.05,0.3]\n",
    "ranges = [(-1,1),(-2,0),(0.01,0.99),(0.01,0.99)]\n",
    "p0 = [-0.5,-1.5,0.1,0.1]\n",
    "params,_,gridx,gridy = brute(cost,ranges,args=(x,y),full_output=True)\n",
    "#params = basinhopping(cost,niter=1000,x0=[-1,-2,0.05,0.3],minimizer_kwargs={'args':(x,y),'bounds':ranges}).x\n",
    "\n",
    "xp = np.linspace(-2,1,100)\n",
    "yp = box_model(params,xp)\n",
    "\n",
    "fig,ax = plt.subplots(figsize=(16,4))\n",
    "ax.plot(xp,yp,lw=5)\n",
    "ax.errorbar(xb,yb,xerr=dxb,yerr=dyb,marker='s',linestyle='None')\n",
    "ax.set_xlabel('log(S) $(S_\\oplus)$')\n",
    "ax.set_ylabel('P(has H$_2$O)')\n",
    "\n",
    "print((10**params[0])**-0.5,(10**params[1])**-0.5)"
   ]
  },
  {
   "cell_type": "code",
   "execution_count": 3,
   "metadata": {},
   "outputs": [
    {
     "name": "stdout",
     "output_type": "stream",
     "text": [
      "0.20695102685624012 262\n",
      "[0.59      8.7755102]\n"
     ]
    },
    {
     "name": "stderr",
     "output_type": "stream",
     "text": [
      "/Users/abixel/opt/anaconda3/lib/python3.7/site-packages/ipykernel_launcher.py:4: RuntimeWarning: divide by zero encountered in double_scalars\n",
      "  after removing the cwd from sys.path.\n",
      "/Users/abixel/opt/anaconda3/lib/python3.7/site-packages/ipykernel_launcher.py:5: RuntimeWarning: divide by zero encountered in true_divide\n",
      "  \"\"\"\n",
      "/Users/abixel/opt/anaconda3/lib/python3.7/site-packages/ipykernel_launcher.py:10: RuntimeWarning: invalid value encountered in log\n",
      "  # Remove the CWD from sys.path while we load stuff.\n"
     ]
    },
    {
     "data": {
      "text/plain": [
       "<ErrorbarContainer object of 3 artists>"
      ]
     },
     "execution_count": 3,
     "metadata": {},
     "output_type": "execute_result"
    },
    {
     "data": {
      "image/png": "[encoded data removed]",
      "text/plain": [
       "<Figure size 1152x288 with 1 Axes>"
      ]
     },
     "metadata": {
      "needs_background": "light"
     },
     "output_type": "display_data"
    }
   ],
   "source": [
    "# Fitting the age-O2 correlation\n",
    "def exponential_model(params,x):\n",
    "    f_life0,tau = params\n",
    "    A = f_life0/(1-np.exp(-4.5/tau))\n",
    "    return A*(1-np.exp(-x/tau))\n",
    "\n",
    "# Define a cost function to be minimized\n",
    "def cost(params,x,y):\n",
    "    h = exponential_model(params,x)\n",
    "    terms = y*np.log(h) + (1-y)*np.log(1-h)\n",
    "    return (-1/len(x)) * np.sum(terms)\n",
    "\n",
    "# Extract 'age' and 'has_O2' for planets in the HZ\n",
    "obs = ~np.isnan(data['has_O2'])\n",
    "in_HZ = (data['S']>0.3)&(data['S']<1.1)\n",
    "x_O2,y_O2 = data['age'][obs&in_HZ],data['has_O2'][obs&in_HZ]\n",
    "\n",
    "# Binned values\n",
    "bins,values,errors = analysis.binned_average(x_O2,y_O2,bins=15)\n",
    "xb_O2,dxb_O2 = (bins[1:]+bins[:-1])/2.,(bins[1:]-bins[:-1])/2.\n",
    "yb_O2,dyb_O2 = values,errors\n",
    "\n",
    "# Minimize the cost function\n",
    "ranges = [(0.01,0.99),(0,10)]\n",
    "params,_,gridx,gridy = brute(cost,ranges,args=(x_O2,y_O2),full_output=True,finish=False,Ns=50)\n",
    "\n",
    "print(params,cost(params,x,y))\n",
    "\n",
    "xp = np.linspace(0,10,100)\n",
    "yp = exponential_model(params,xp)\n",
    "\n",
    "fig,ax = plt.subplots(figsize=(16,4))\n",
    "ax.plot(xp,yp,lw=5)\n",
    "ax.errorbar(xb_O2,yb_O2,xerr=dxb_O2,yerr=dyb_O2,marker='s',linestyle='None')"
   ]
  },
  {
   "cell_type": "code",
   "execution_count": null,
   "metadata": {},
   "outputs": [],
   "source": []
  },
  {
   "cell_type": "code",
   "execution_count": null,
   "metadata": {},
   "outputs": [],
   "source": []
  }
 ],
 "metadata": {
  "kernelspec": {
   "display_name": "Python 3",
   "language": "python",
   "name": "python3"
  },
  "language_info": {
   "codemirror_mode": {
    "name": "ipython",
    "version": 3
   },
   "file_extension": ".py",
   "mimetype": "text/x-python",
   "name": "python",
   "nbconvert_exporter": "python",
   "pygments_lexer": "ipython3",
   "version": "3.7.4"
  }
 },
 "nbformat": 4,
 "nbformat_minor": 2
}
