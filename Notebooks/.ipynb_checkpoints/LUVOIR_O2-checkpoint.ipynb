{
 "cells": [
  {
   "cell_type": "code",
   "execution_count": 1,
   "metadata": {},
   "outputs": [],
   "source": [
    "# Move to the top level directory (./Bioverse)\n",
    "import os\n",
    "if os.getcwd().split('/')[-1] == 'Notebooks':\n",
    "    os.chdir('../')"
   ]
  },
  {
   "cell_type": "code",
   "execution_count": 3,
   "metadata": {},
   "outputs": [],
   "source": [
    "# Import the main Bioverse module (bio.py)\n",
    "from bio import *"
   ]
  },
  {
   "cell_type": "code",
   "execution_count": 6,
   "metadata": {},
   "outputs": [
    {
     "name": "stderr",
     "output_type": "stream",
     "text": [
      "functions.py:369: RuntimeWarning: invalid value encountered in sqrt\n",
      "  d = (L/S_eff)**0.5\n"
     ]
    }
   ],
   "source": [
    "# Create a Generator object and use it to generate a sample of planetary systems\n",
    "g = classes.Generator()\n",
    "sample = g.generate()"
   ]
  },
  {
   "cell_type": "code",
   "execution_count": 7,
   "metadata": {},
   "outputs": [],
   "source": [
    "# Load a Survey object with a LUVOIR-like configuration\n",
    "survey = classes.Survey(label='LUVOIR')"
   ]
  },
  {
   "cell_type": "code",
   "execution_count": null,
   "metadata": {},
   "outputs": [],
   "source": [
    "# Use the yield estimates from The LUVOIR Final Report (2019) to determine which planets in the sample are detected\n",
    "yld = survey.apply_precalculated_yield(d)"
   ]
  }
 ],
 "metadata": {
  "kernelspec": {
   "display_name": "Python 3",
   "language": "python",
   "name": "python3"
  },
  "language_info": {
   "codemirror_mode": {
    "name": "ipython",
    "version": 3
   },
   "file_extension": ".py",
   "mimetype": "text/x-python",
   "name": "python",
   "nbconvert_exporter": "python",
   "pygments_lexer": "ipython3",
   "version": "3.7.4"
  }
 },
 "nbformat": 4,
 "nbformat_minor": 2
}
