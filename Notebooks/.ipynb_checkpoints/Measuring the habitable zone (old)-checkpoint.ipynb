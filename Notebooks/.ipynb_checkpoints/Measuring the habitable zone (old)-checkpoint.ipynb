{
 "cells": [
  {
   "cell_type": "code",
   "execution_count": 61,
   "metadata": {},
   "outputs": [],
   "source": [
    "# Import statements\n",
    "import emcee\n",
    "import sys\n",
    "sys.path.append('../')\n",
    "from bio import *\n",
    "%matplotlib inline\n",
    "\n",
    "# Scipy (model fitting)\n",
    "from scipy.optimize import curve_fit\n",
    "\n",
    "# Pyplot parameters\n",
    "plt.rcParams['font.size'] = 20."
   ]
  },
  {
   "cell_type": "code",
   "execution_count": 62,
   "metadata": {},
   "outputs": [],
   "source": [
    "# Fraction of potentially habitable / non-habitable planets with (detectable) atmospheric water vapor\n",
    "f_water_habitable = 0.8\n",
    "f_water_nonhabitable = 0.1\n",
    "\n",
    "# Generate a sample of planets using the LUVOIR target star catalog and SAG13 planet occurrence rates\n",
    "generator = classes.Generator('LUVOIR_SAG13')\n",
    "sample = generator.generate(f_water_habitable=f_water_habitable,f_water_nonhabitable=f_water_nonhabitable,mult=1.)\n",
    "\n",
    "# Determine which planets would be detected by a LUVOIR-like coronagraphic survey, and sort them by distance\n",
    "survey = classes.Survey(filename=util.ROOT_DIR+'/Objects/Surveys/LUVOIR.dat')\n",
    "detected = survey.compute_yield(sample,sort_key='d',simple=True)\n",
    "\n",
    "# Measure the semi-major axis (10% precision), planet-star contrast (10% precision), and presence/absence of H2O\n",
    "# Also measure the stellar luminosity with ~0% precision\n",
    "data = survey.observe(detected)\n",
    "\n",
    "# From these, estimate the insolation and amount of light reflected (A_g * R_pl^2) compared to Earth\n",
    "data['S'] = data['L_st']/data['a']**2\n",
    "data['refl'] = data['contrast']*data['a']**2*np.pi"
   ]
  },
  {
   "cell_type": "code",
   "execution_count": 63,
   "metadata": {},
   "outputs": [
    {
     "name": "stdout",
     "output_type": "stream",
     "text": [
      "[36 36 36 35 36 36 35 36 36 35 36 36 36 35 36 36 35 36 36 35]\n"
     ]
    },
    {
     "data": {
      "text/plain": [
       "Text(0, 0.5, 'Fraction of planets\\nwith H2O')"
      ]
     },
     "execution_count": 63,
     "metadata": {},
     "output_type": "execute_result"
    },
    {
     "data": {
      "image/png": "[encoded data removed]",
      "text/plain": [
       "<Figure size 432x288 with 1 Axes>"
      ]
     },
     "metadata": {
      "needs_background": "light"
     },
     "output_type": "display_data"
    }
   ],
   "source": [
    "# Exclude planets too faint or bright to be Earth-like\n",
    "m = (data['contrast']<1e-8) & (data['contrast']>1e-11)\n",
    "\n",
    "# Exclude planets with S > 10 or S < 0.01 times Earth value\n",
    "m = m & (data['S'] < 10) & (data['S'] > 0.01)\n",
    "\n",
    "# Plot the fraction of planets with H2O versus insolation (in evenly-populated bins)\n",
    "fig,ax = plt.subplots()\n",
    "ax,x,y,dx,dy = plots.binned_average(data[m],'S','has_H2O',bins=20,log=True,match_bin_counts=True,ax=ax,return_xy=True)\n",
    "\n",
    "# Remove y == 0 and dy == 0 bins\n",
    "mask = (y!=0)&(dy!=0)&(dx!=0)\n",
    "x,y,dx,dy = x[mask],y[mask],dx[mask],dy[mask]\n",
    "\n",
    "# Plot the inner/outer edge of the HZ\n",
    "ax.axvline(np.log10(np.median(detected['S_inner'][m])),c='red',lw=1)\n",
    "ax.axvline(np.log10(np.median(detected['S_outer'][m])),c='red',lw=1)\n",
    "\n",
    "# Labels\n",
    "ax.set_xlabel('log(S)',fontsize=30)\n",
    "ax.set_ylabel('Fraction of planets\\nwith H2O',fontsize=30)"
   ]
  },
  {
   "cell_type": "code",
   "execution_count": 64,
   "metadata": {},
   "outputs": [],
   "source": [
    "# Use MCMC to fit (S1,S2,f1,f2) = (S_inner, S_outer, f_notHZ, f_HZ)\n",
    "# Note: S_inner/S_outer are in the same units as x, i.e. log(S)\n",
    "def box_model(x,S1,S2,f1,f2):\n",
    "    y = np.full(len(x),f1)\n",
    "    y[(x<S1)&(x>S2)] = f2\n",
    "    return y\n",
    "\n",
    "# Uniform prior distributions, but enforce S_inner > S_outer\n",
    "def log_prior(theta):\n",
    "    S1,S2,f1,f2 = theta\n",
    "    if (-2<S1<1)&(-2<S2<1)&(S2<S1)&(0<=f1<=1)&(0<=f2<=1):\n",
    "        return 0.\n",
    "    else:\n",
    "        return -np.inf\n",
    "\n",
    "# Gaussian log-likelihood\n",
    "def log_likelihood(theta,x,y,dy):\n",
    "    ym = box_model(x,*theta)\n",
    "    return -0.5 * np.sum((y-ym)**2/dy**2)\n",
    "\n",
    "# Log-probability\n",
    "def log_probability(theta,x,y,dy):\n",
    "    lprior = log_prior(theta)\n",
    "    if np.isinf(lprior):\n",
    "        return -np.inf\n",
    "    llikelihood = log_likelihood(theta,x,y,dy)\n",
    "    return lprior+llikelihood\n",
    "\n",
    "nwalkers,ndim=32,4\n",
    "sampler = emcee.EnsembleSampler(nwalkers,ndim,log_probability,args=(x,y,dy))\n",
    "\n",
    "# Initial guess and burn in\n",
    "p0 = np.random.rand(nwalkers,ndim)\n",
    "state = sampler.run_mcmc(p0,100)\n",
    "sampler.reset()\n",
    "\n",
    "# 1000 steps\n",
    "state = sampler.run_mcmc(state,10000)\n",
    "samples = sampler.get_chain(flat=True)"
   ]
  },
  {
   "cell_type": "code",
   "execution_count": 65,
   "metadata": {},
   "outputs": [
    {
     "name": "stdout",
     "output_type": "stream",
     "text": [
      "log(S_inner): 0.29 +- 0.33 (0.06)\n",
      "log(S_outer): -0.61 +- 0.33 (-0.44)\n",
      "f_notHZ: 0.06 +- 0.03 (0.07)\n",
      "f_HZ: 0.18 +- 0.13 (0.23)\n"
     ]
    }
   ],
   "source": [
    "# Print the results alongside the \"truth\" values\n",
    "\n",
    "in_hz = sample['zone'] == 'temperate'\n",
    "\n",
    "vals = [np.log10(np.median(sample['S_inner'])),np.log10(np.median(sample['S_outer'])),\n",
    "        np.mean(sample['has_H2O'][~in_hz]),np.mean(sample['has_H2O'][in_hz])]\n",
    "for i,label in enumerate(['log(S_inner)','log(S_outer)','f_notHZ','f_HZ']):\n",
    "    print(\"{:s}: {:.2f} +- {:.2f} ({:.2f})\".format(label,np.mean(samples[:,i]),np.std(samples[:,i]),vals[i]))"
   ]
  },
  {
   "cell_type": "code",
   "execution_count": null,
   "metadata": {},
   "outputs": [],
   "source": [
    "# Plot the best fit model alongside the data\n",
    "fig,ax = plt.subplots()\n",
    "ax.errorbar(x,y,xerr=dx,yerr=dy)"
   ]
  }
 ],
 "metadata": {
  "kernelspec": {
   "display_name": "Python 3",
   "language": "python",
   "name": "python3"
  },
  "language_info": {
   "codemirror_mode": {
    "name": "ipython",
    "version": 3
   },
   "file_extension": ".py",
   "mimetype": "text/x-python",
   "name": "python",
   "nbconvert_exporter": "python",
   "pygments_lexer": "ipython3",
   "version": "3.7.4"
  }
 },
 "nbformat": 4,
 "nbformat_minor": 2
}
