{
 "cells": [
  {
   "cell_type": "markdown",
   "source": [
    "# Tutorial 1: Generating planetary systems\n",
    "\n",
    "In this tutorial, we will review how to use the Generator class to generate a sample of planetary systems, including how to add or replace steps in the process. \n",
    "\n",
    "## Setup\n",
    "\n",
    "Let's start by importing the necessary module from Bioverse."
   ],
   "metadata": {}
  },
  {
   "cell_type": "code",
   "execution_count": 1,
   "source": [
    "# Import numpy\n",
    "import numpy as np\n",
    "\n",
    "# Import the Generator class\n",
    "from bioverse.generator import Generator\n",
    "from bioverse.constants import ROOT_DIR\n",
    "\n",
    "# Import pyplot (for making plots later) and adjust some of its settings\n",
    "from matplotlib import pyplot as plt\n",
    "%matplotlib inline\n",
    "plt.rcParams['font.size'] = 20."
   ],
   "outputs": [],
   "metadata": {}
  },
  {
   "cell_type": "markdown",
   "source": [
    "## Loading the Generator\n",
    "\n",
    "The first step in using Bioverse is to generate a simulated sample of planetary systems. This is accomplished with a Generator object, of which two come pre-installed. Let's open one of them and examine its contents."
   ],
   "metadata": {}
  },
  {
   "cell_type": "code",
   "execution_count": 2,
   "source": [
    "# Open the transit mode generator and display its properties\n",
    "generator = Generator('transit')\n",
    "generator"
   ],
   "outputs": [
    {
     "output_type": "execute_result",
     "data": {
      "text/plain": [
       "Generator with 12 steps:\n",
       " 0: Function 'create_stars_Gaia' with 6 keyword arguments.\n",
       " 1: Function 'create_planets_SAG13' with 9 keyword arguments.\n",
       " 2: Function 'assign_orbital_elements' with 1 keyword arguments.\n",
       " 3: Function 'geometric_albedo' with 2 keyword arguments.\n",
       " 4: Function 'impact_parameter' with 1 keyword arguments.\n",
       " 5: Function 'assign_mass' with no keyword arguments.\n",
       " 6: Function 'compute_habitable_zone_boundaries' with no keyword arguments.\n",
       " 7: Function 'compute_transit_params' with no keyword arguments.\n",
       " 8: Function 'classify_planets' with no keyword arguments.\n",
       " 9: Function 'scale_height' with no keyword arguments.\n",
       "10: Function 'Example1_water' with 3 keyword arguments.\n",
       "11: Function 'Example2_oxygen' with 2 keyword arguments."
      ]
     },
     "metadata": {},
     "execution_count": 2
    }
   ],
   "metadata": {}
  },
  {
   "cell_type": "markdown",
   "source": [
    "The list above shows each of the steps the Generator runs through in producing the sample of planetary systems. For more information about an individual step, we can display it based on its index:"
   ],
   "metadata": {}
  },
  {
   "cell_type": "code",
   "execution_count": 3,
   "source": [
    "# Show more about the 'create_planets_SAG13' step\n",
    "generator.steps[1]"
   ],
   "outputs": [
    {
     "output_type": "execute_result",
     "data": {
      "text/plain": [
       "Function 'create_planets_SAG13' with 9 keyword arguments.\n",
       "\n",
       "Description:\n",
       "    Generates planets with periods and radii according to SAG13 occurrence rate estimates, but incorporating\n",
       "    the dependence of occurrence rates on spectral type from Mulders+2015.\n",
       "\n",
       "    Parameters\n",
       "    ----------\n",
       "    d : Table\n",
       "        Table containing simulated host stars.\n",
       "    eta_Earth : float, optional\n",
       "        The number of Earth-sized planets in the habitable zones of Sun-like stars. All occurrence\n",
       "        rates are uniformly scaled to produce this estimate.\n",
       "    R_min : float, optional\n",
       "        Minimum planet radius, in Earth units.\n",
       "    R_max : float, optional\n",
       "        Maximum planet radius, in Earth units.\n",
       "    P_min : float, optional\n",
       "        Minimum orbital period, in years.\n",
       "    P_max : float, optional\n",
       "        Maximum orbital period, in years.\n",
       "    normalize_SpT : bool, optional\n",
       "        If True, modulate occurrence rates by stellar mass according to Mulders+2015. Otherwise, assume no\n",
       "        dependency on stellar mass.\n",
       "    transit_mode : bool, optional\n",
       "        If True, only transiting planets are simulated. Occurrence rates are modified to reflect the R_*/a transit probability.\n",
       "    optimistic : bool, optional\n",
       "        If True, extrapolate the results of Mulders+2015 by assuming rocky planets are much more common around late-type M dwarfs. If False,\n",
       "        assume that occurrence rates plateau with stellar mass for stars cooler than ~M3.\n",
       "    optimistic_factor : float, optional\n",
       "        If optimistic = True, defines how many times more common rocky planets are around late-type M dwarfs compared to Sun-like stars.\n",
       "\n",
       "\n",
       "    Returns\n",
       "    -------\n",
       "    d : Table\n",
       "        Table containing the sample of simulated planets. Replaces the input Table.\n",
       "\n",
       "Argument values:\n",
       "    eta_Earth      = 0.075     \n",
       "    R_min          = 0.5       \n",
       "    R_max          = 14.3      \n",
       "    P_min          = 0.01      \n",
       "    P_max          = 10.0      \n",
       "    normalize_SpT  = True      \n",
       "    transit_mode   = True      \n",
       "    optimistic     = False     \n",
       "    optimistic_factor = 5         "
      ]
     },
     "metadata": {},
     "execution_count": 3
    }
   ],
   "metadata": {}
  },
  {
   "cell_type": "markdown",
   "source": [
    "Here we see a short description of the planet generation step as well as its keyword arguments, including `eta_Earth`. This specifies the average number of Earth-sized planets in the habitable zones of Sun-like stars, and it is currently set to 7.5% (following Pascucci et al. 2020). Let's change this to a more optimistic value:"
   ],
   "metadata": {}
  },
  {
   "cell_type": "code",
   "execution_count": 4,
   "source": [
    "# Set eta_Earth = 15%\n",
    "generator.set_arg('eta_Earth', 0.15)"
   ],
   "outputs": [],
   "metadata": {}
  },
  {
   "cell_type": "markdown",
   "source": [
    "Some arguments are shared by multiple functions - for example, the `transit_mode` argument tells a couple of functions that only transiting planets are being simulated. By default, it is set to `False`, but we can change that like so:"
   ],
   "metadata": {}
  },
  {
   "cell_type": "code",
   "execution_count": 5,
   "source": [
    "# Set transit_mode = True for all functions that use it\n",
    "generator.set_arg('transit_mode', True)\n",
    "\n",
    "# We can also check on an argument's value as follows:\n",
    "val = str(generator.get_arg('transit_mode'))\n",
    "print(\"\\nThe current value of transit_mode is {:s}\".format(val))"
   ],
   "outputs": [
    {
     "output_type": "stream",
     "name": "stdout",
     "text": [
      "\n",
      "The current value of transit_mode is True\n"
     ]
    }
   ],
   "metadata": {}
  },
  {
   "cell_type": "markdown",
   "source": [
    "## Running the Generator\n",
    "\n",
    "Now, let's use this Generator object to produce an ensemble of transiting planets within 100 parsecs."
   ],
   "metadata": {}
  },
  {
   "cell_type": "code",
   "execution_count": 6,
   "source": [
    "sample = generator.generate(d_max=100)\n",
    "print(\"Generated a sample of {:d} transiting planets including {:d} exo-Earth candidates.\".format(len(sample), sample['EEC'].sum()))"
   ],
   "outputs": [
    {
     "output_type": "stream",
     "name": "stdout",
     "text": [
      "Generated a sample of 17081 transiting planets including 1115 exo-Earth candidates.\n"
     ]
    }
   ],
   "metadata": {}
  },
  {
   "cell_type": "markdown",
   "source": [
    "Let's plot the period and radius distribution of this planet sample:"
   ],
   "metadata": {}
  },
  {
   "cell_type": "code",
   "execution_count": 7,
   "source": [
    "fig, ax = plt.subplots(ncols=2, figsize=(16,8))\n",
    "\n",
    "# Period histogram\n",
    "P = sample['P']\n",
    "bins = np.logspace(0, 4, 100)\n",
    "ax[0].hist(P, bins=bins)\n",
    "ax[0].set_xscale('log')\n",
    "ax[0].set_yscale('log')\n",
    "ax[0].set_xlabel('Period (d)', fontsize=24)\n",
    "ax[0].set_ylabel('Number of planets', fontsize=24)\n",
    "\n",
    "# Radius histogram\n",
    "R = sample['R']\n",
    "bins = np.logspace(-0.5,1,100)\n",
    "ax[1].hist(R, bins=bins)\n",
    "ax[1].set_xscale('log')\n",
    "ax[1].set_yscale('log')\n",
    "ax[1].set_xlabel('Radius ($R_\\oplus$)', fontsize=24)\n",
    "ax[1].set_ylabel('Number of planets', fontsize=24)\n",
    "\n",
    "plt.subplots_adjust(wspace=0.3)"
   ],
   "outputs": [
    {
     "output_type": "display_data",
     "data": {
      "image/png": "[encoded data removed]",
      "text/plain": [
       "<Figure size 1152x576 with 2 Axes>"
      ]
     },
     "metadata": {
      "needs_background": "light"
     }
    }
   ],
   "metadata": {}
  },
  {
   "cell_type": "markdown",
   "source": [
    "## Adding new steps\n",
    "\n",
    "Finally, suppose you want to simulate a new planetary property in Bioverse. For example, suppose you want to assign an ocean covering fraction to each planet (`f_ocean_min` < `f_ocean` < `f_ocean_max` for exo-Earth candidates and `f_ocean` = 0 for others). We can accomplish this like so:"
   ],
   "metadata": {}
  },
  {
   "cell_type": "code",
   "execution_count": 8,
   "source": [
    "# Define a function that accepts and returns a Table object\n",
    "def oceans(d, f_ocean_min=0, f_ocean_max=1):\n",
    "    # First, assign zero for all planets\n",
    "    d['f_ocean'] = np.zeros(len(d))\n",
    "\n",
    "    # Next, assign a random non-zero value for exo-Earth candidates\n",
    "    EEC = d['EEC']\n",
    "    d['f_ocean'][EEC] = np.random.uniform(f_ocean_min, f_ocean_max, size=EEC.sum())\n",
    "\n",
    "    # Finally, return the Table with its new column\n",
    "    return d\n",
    "\n",
    "# Insert this function at the end of the Generator\n",
    "generator.insert_step(oceans)\n",
    "\n",
    "# Run the generator with f_ocean_min = 0.3 and f_ocean_max = 0.7\n",
    "sample = generator.generate(d_max=100, f_ocean_min=0.3, f_ocean_max=0.7)"
   ],
   "outputs": [],
   "metadata": {}
  },
  {
   "cell_type": "markdown",
   "source": [
    "Now, let's plot the distribution of ocean covering fractions for EECs and non-EECs:"
   ],
   "metadata": {}
  },
  {
   "cell_type": "code",
   "execution_count": 9,
   "source": [
    "fig, ax = plt.subplots(ncols=2, figsize=(16,8))\n",
    "\n",
    "f_ocean = sample['f_ocean']\n",
    "EEC = sample['EEC']\n",
    "\n",
    "# EECs\n",
    "bins = np.linspace(0., 1, 100)\n",
    "ax[0].hist(f_ocean[EEC], bins=bins)\n",
    "ax[0].set_title('exo-Earth candidates')\n",
    "ax[0].set_ylabel('Number of planets')\n",
    "\n",
    "# Non-EECs\n",
    "ax[1].hist(f_ocean[~EEC], bins=bins)\n",
    "ax[1].set_title('non-habitable planets')\n",
    "\n",
    "plt.subplots_adjust(wspace=0.3)"
   ],
   "outputs": [
    {
     "output_type": "display_data",
     "data": {
      "image/png": "[encoded data removed]",
      "text/plain": [
       "<Figure size 1152x576 with 2 Axes>"
      ]
     },
     "metadata": {
      "needs_background": "light"
     }
    }
   ],
   "metadata": {}
  },
  {
   "cell_type": "markdown",
   "source": [
    "Of course, you may wish to change the `oceans` function later, and it would be tiring to add it to the Generator again each time. Instead, we can point the Generator to a Python file containing your function, which must be saved under ``bioverse/functions/``."
   ],
   "metadata": {}
  },
  {
   "cell_type": "code",
   "execution_count": 10,
   "source": [
    "# Reload the generator to erase the previously-added step\n",
    "generator = Generator('transit')\n",
    "\n",
    "# Write the function definition as a string\n",
    "func = \"\"\"\n",
    "# Define a function that accepts and returns a Table object\n",
    "def oceans(d, f_ocean_min=0, f_ocean_max=1):\n",
    "    # First, assign zero for all planets\n",
    "    d['f_ocean'] = np.zeros(len(d))\n",
    "\n",
    "    # Next, assign a random non-zero value for exo-Earth candidates\n",
    "    EEC = d['EEC']\n",
    "    d['f_ocean'][EEC] = np.random.uniform(f_ocean_min, f_ocean_max, size=EEC.sum())\n",
    "\n",
    "    # Finally, return the Table with its new column\n",
    "    return d\n",
    "\"\"\"\n",
    "\n",
    "# Save the function to a .py file\n",
    "with open(ROOT_DIR+'/example_oceans.py', 'w') as f:\n",
    "    f.write(func)\n",
    "\n",
    "# Insert this function into the Generator and specify the filename\n",
    "generator.insert_step('oceans', filename='example_oceans.py')\n",
    "\n",
    "# Verify that the new step has been added\n",
    "generator"
   ],
   "outputs": [
    {
     "output_type": "execute_result",
     "data": {
      "text/plain": [
       "Generator with 13 steps:\n",
       " 0: Function 'create_stars_Gaia' with 6 keyword arguments.\n",
       " 1: Function 'create_planets_SAG13' with 9 keyword arguments.\n",
       " 2: Function 'assign_orbital_elements' with 1 keyword arguments.\n",
       " 3: Function 'geometric_albedo' with 2 keyword arguments.\n",
       " 4: Function 'impact_parameter' with 1 keyword arguments.\n",
       " 5: Function 'assign_mass' with no keyword arguments.\n",
       " 6: Function 'compute_habitable_zone_boundaries' with no keyword arguments.\n",
       " 7: Function 'compute_transit_params' with no keyword arguments.\n",
       " 8: Function 'classify_planets' with no keyword arguments.\n",
       " 9: Function 'scale_height' with no keyword arguments.\n",
       "10: Function 'Example1_water' with 3 keyword arguments.\n",
       "11: Function 'Example2_oxygen' with 2 keyword arguments.\n",
       "12: Function 'oceans' with 2 keyword arguments."
      ]
     },
     "metadata": {},
     "execution_count": 10
    }
   ],
   "metadata": {}
  },
  {
   "cell_type": "markdown",
   "source": [
    "Now, any changes you make to the `oceans` function under `example_oceans.py` will automatically be applied. Finally, you will want to save this Generator under a new name, so that you don't have to re-add the new step every time you load Bioverse:"
   ],
   "metadata": {}
  },
  {
   "cell_type": "code",
   "execution_count": 11,
   "source": [
    "# Save the new Generator\n",
    "generator.save('transit_oceans')\n",
    "\n",
    "# Reload it\n",
    "generator = Generator('transit_oceans')"
   ],
   "outputs": [],
   "metadata": {}
  },
  {
   "cell_type": "markdown",
   "source": [
    "The following lines of code will clean up the files created during this exercise:"
   ],
   "metadata": {}
  },
  {
   "cell_type": "code",
   "execution_count": 12,
   "source": [
    "import os\n",
    "trash = [ROOT_DIR+'/Objects/Generators/transit_oceans.pkl', ROOT_DIR+'/example_oceans.py']\n",
    "for filename in trash:\n",
    "    if os.path.exists(filename):\n",
    "        os.remove(filename)"
   ],
   "outputs": [],
   "metadata": {}
  },
  {
   "cell_type": "markdown",
   "source": [
    "The next example will translate this simulated sample of planetary systems into a dataset from a transit spectroscopy survey."
   ],
   "metadata": {}
  }
 ],
 "metadata": {
  "interpreter": {
   "hash": "3dd1bae58f74bf20d8da1452b02c9f82b0404678f1d0078fc73ebd3bf8b9b030"
  },
  "kernelspec": {
   "display_name": "Python 3.8.3 64-bit ('base': conda)",
   "name": "python3"
  },
  "language_info": {
   "codemirror_mode": {
    "name": "ipython",
    "version": 3
   },
   "file_extension": ".py",
   "mimetype": "text/x-python",
   "name": "python",
   "nbconvert_exporter": "python",
   "pygments_lexer": "ipython3",
   "version": "3.8.3"
  },
  "orig_nbformat": 4
 },
 "nbformat": 4,
 "nbformat_minor": 2
}