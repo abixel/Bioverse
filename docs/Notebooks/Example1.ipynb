{
 "cells": [
  {
   "cell_type": "markdown",
   "metadata": {},
   "source": [
    "# Example 1: Finding the habitable zone\n",
    "\n",
    "In Section 6 of [Bixel & Apai (2021)](https://ui.adsabs.harvard.edu/abs/2021AJ....161..228B/abstract), we propose that the concept of a \"habitable zone\" could be validated by searching for a region of space where planets with atmospheric water vapor are statistically more frequent.\n",
    "\n",
    "In this example, you will use Bioverse to determine whether a [LUVOIR](https://ui.adsabs.harvard.edu/abs/2019arXiv191206219T/abstract)-like imaging survey could test this hypothesis.\n",
    "\n",
    "## Setup\n",
    "First, we'll import the Bioverse code:"
   ]
  },
  {
   "cell_type": "code",
   "execution_count": 1,
   "metadata": {},
   "outputs": [],
   "source": [
    "# Import the relevant modules\n",
    "from bioverse.survey import ImagingSurvey\n",
    "from bioverse.generator import Generator\n",
    "from bioverse.hypothesis import Hypothesis\n",
    "from bioverse import analysis\n",
    "\n",
    "# Import pyplot (for making plots later) and adjust some of its settings\n",
    "from matplotlib import pyplot as plt\n",
    "%matplotlib inline\n",
    "plt.rcParams['font.size'] = 20."
   ]
  },
  {
   "cell_type": "markdown",
   "metadata": {},
   "source": [
    "For this example, we will use the LUVOIR-like imaging survey and host star catalog."
   ]
  },
  {
   "cell_type": "code",
   "execution_count": 2,
   "metadata": {},
   "outputs": [],
   "source": [
    "generator = Generator('imaging')\n",
    "survey = ImagingSurvey('default')"
   ]
  },
  {
   "cell_type": "markdown",
   "metadata": {},
   "source": [
    "## Injecting the statistical effect\n",
    "\n",
    "The first step is to inject the statistical effect we are searching for into the simulated planet population. Specifically, we will simulate the likelihood that a planet has atmospheric water vapor as follows:"
   ]
  },
  {
   "cell_type": "code",
   "execution_count": 3,
   "metadata": {},
   "outputs": [],
   "source": [
    "def habitable_zone_water(d, f_water_habitable=0.75, f_water_nonhabitable=0.01):\n",
    "    d['has_H2O'] = np.zeros(len(d),dtype=bool)\n",
    "\n",
    "    # Non-habitable planets with atmospheres\n",
    "    m1 = d['R'] > 0.8*d['S']**0.25\n",
    "    d['has_H2O'][m1] = np.random.uniform(0,1,size=m1.sum()) < f_water_nonhabitable\n",
    "\n",
    "    # exo-Earth candidates\n",
    "    m2 = d['EEC']\n",
    "    d['has_H2O'][m2] = np.random.uniform(0,1,size=m2.sum()) < f_water_habitable\n",
    "\n",
    "    return d\n",
    "\n",
    "generator.insert_step(habitable_zone_water)"
   ]
  },
  {
   "cell_type": "markdown",
   "metadata": {},
   "source": [
    "Next, let's make a simulated dataset using this modified Generator object and the imaging Survey. Let's start with a relatively optimistic assumption that 75% of EECs are habitable and only 1% of non-EECs have \"false positive\" water vapor."
   ]
  },
  {
   "cell_type": "code",
   "execution_count": 4,
   "metadata": {},
   "outputs": [],
   "source": [
    "sample, detected, data = survey.quickrun(generator, f_water_habitable=0.75, f_water_nonhabitable=0.01)"
   ]
  },
  {
   "cell_type": "markdown",
   "metadata": {},
   "source": [
    "Let's take a look at the simulated data set by plotting which planets have H2O versus their insolation. You might notice that planets within the habitable zone (approx 0.3 < S < 1.1) are more likely to have water-rich atmospheres."
   ]
  },
  {
   "cell_type": "code",
   "execution_count": 5,
   "metadata": {},
   "outputs": [
    {
     "data": {
      "image/png": "[encoded data removed]",
      "text/plain": [
       "<Figure size 1152x144 with 1 Axes>"
      ]
     },
     "metadata": {
      "needs_background": "light"
     },
     "output_type": "display_data"
    }
   ],
   "source": [
    "x, y = data['a_eff'], data['has_H2O']\n",
    "\n",
    "# Now plot the water-rich/water-poor planets versus a_eff (in log-space)\n",
    "fig, ax = plt.subplots(figsize=(16,2))\n",
    "ax.scatter(x,y)\n",
    "ax.set_xscale('log')\n",
    "ax.set_yticks([0,1])\n",
    "ax.set_yticklabels(['no H$_2$O','has H$_2$O'],fontsize=24)\n",
    "ax.set_xlabel('Semi-major axis (scaled) (AU)',fontsize=24)\n",
    "\n",
    "# Highlight the boundaries of the habitable zone (water-rich planets should be more common here)\n",
    "ax.axvline(0.95,linestyle='dotted',c='black',lw=3)\n",
    "ax.axvline(1.7,linestyle='dotted',c='black',lw=3)\n",
    "\n",
    "plt.show()"
   ]
  },
  {
   "cell_type": "markdown",
   "metadata": {},
   "source": [
    "The effect injected by `habitable_zone_water` is apparent in the dataset. But is this effect of high enough statistical significance to confirm the habitable zone hypothesis?"
   ]
  },
  {
   "cell_type": "markdown",
   "metadata": {},
   "source": [
    "## Defining the hypothesis\n",
    "\n",
    "Next, we'll create a new Hypothesis object representing the hypothesis that planets within one region of space are more likely to have atmospheric water vapor than those outside of it. Since we do not know the planets' sizes, the only independent variable is the distance from the star modulated by the stellar luminosity, called `a_eff` (this is already calculated). Likewise, the dependent variable is the presence or absence of water vapor, called `has_H2O`, which is either 0 or 1. The relationship between these values is parameterized by `a_inner` (the inner edge of the habitable zone in AU), `delta_a` (the width in AU), `f_HZ` (the fraction of HZ planets with H2O), and `df_notHZ` (the fraction of non-HZ planets with H2O *divided by* `f_HZ`). By defining the four parameters in this way, we can easily avoid parameter combinations inconsistent with our hypothesis (such as the fraction of non-HZ planets with H2O being higher than `f_HZ` planets).\n",
    "\n",
    "For compatibility reasons, the names of the independent variables, parameters, and dependent variables must be specified in the function signature as follows:"
   ]
  },
  {
   "cell_type": "code",
   "execution_count": 6,
   "metadata": {},
   "outputs": [],
   "source": [
    "# Define the hypothesis in functional form with the appropriate annotations\n",
    "def f(theta:('a_inner', 'delta_a', 'f_HZ', 'df_notHZ'), X:('a_eff',)) -> ('has_H2O',):\n",
    "    a_inner, delta_a, f_HZ, df_notHZ = theta\n",
    "    in_HZ = (X > a_inner) & (X < (a_inner + delta_a))\n",
    "    return in_HZ * f_HZ + (~in_HZ) * f_HZ*df_notHZ"
   ]
  },
  {
   "cell_type": "markdown",
   "metadata": {},
   "source": [
    "In addition, we must consider the prior probability distribution of these parameters. Conservatively, we suppose the inner edge might extend far inward, or be slightly farther from the Sun than Earth, and that the HZ could be very narrow or very wide. Similarly, the fraction of planets with water vapor in the HZ and outside of it could span many orders of magnitude. We therefore choose to impose log-uniform prior distributions on these parameters across the following ranges:\n",
    "\n",
    "0.1 < `a_inner` < 2 AU\n",
    "\n",
    "0.01 < `delta_a` < 10 AU\n",
    "\n",
    "0 < `f_HZ` < 1\n",
    "\n",
    "0 < `f_notHZ` < 1\n",
    "\n",
    "After deciding on the bounds, we can initialize the Hypothesis object."
   ]
  },
  {
   "cell_type": "code",
   "execution_count": 7,
   "metadata": {},
   "outputs": [],
   "source": [
    "bounds = np.array([[0.1, 2], [0.01, 10], [0.001, 1.0], [0.001, 1.0]])\n",
    "h_HZ = Hypothesis(f, bounds, log=(True, True, True, True))"
   ]
  },
  {
   "cell_type": "markdown",
   "metadata": {},
   "source": [
    "We also need to define the null hypothesis against which `h_HZ` is to be compared. The null hypothesis says that the fraction of planets with water vapor is independent of their orbits - this is a one parameter hypothesis where `f_H2O`, the fraction of planets with water vapor, is the only parameter. Again, the prior distribution on `f_H2O` should be broad (0 to 1) and log-uniform in shape. We can define this null hypothesis and attach it to `h_HZ` as follows:\n"
   ]
  },
  {
   "cell_type": "code",
   "execution_count": 8,
   "metadata": {},
   "outputs": [],
   "source": [
    "def f_null(theta:('has_H2O',), X:('a_eff',)) -> ('has_H2O',):\n",
    "    shape = (np.shape(X)[0], 1)\n",
    "    return np.full(shape, theta)\n",
    "bounds_null = np.array([[0.001, 1.0]])\n",
    "h_HZ.h_null = Hypothesis(f_null, bounds_null, log=(True,))"
   ]
  },
  {
   "cell_type": "markdown",
   "metadata": {},
   "source": [
    "\n",
    "Now that the Hypothesis has been formed, we can formally test it using our simulated dataset. The `fit()` method will automatically extract the appropriate variables from the data and estimate the Bayesian evidence for both the hypothesis and null hypothesis using nested sampling. It will return the difference between the two i.e. the evidence in favor of the habitable zone hypothesis."
   ]
  },
  {
   "cell_type": "code",
   "execution_count": 9,
   "metadata": {},
   "outputs": [
    {
     "name": "stdout",
     "output_type": "stream",
     "text": [
      "The evidence in favor of the hypothesis is: dlnZ = 4.1 (corresponds to p = 1.6E-02)\n"
     ]
    }
   ],
   "source": [
    "results = h_HZ.fit(data)\n",
    "print(\"The evidence in favor of the hypothesis is: dlnZ = {:.1f} (corresponds to p = {:.1E})\".format(results['dlnZ'], np.exp(-results['dlnZ'])))"
   ]
  },
  {
   "cell_type": "markdown",
   "metadata": {},
   "source": [
    "Generally speaking, a result where dlnZ > 3 is considered significant, so this was a succcessful test of the hypothesis.\n",
    "\n",
    "**Note for iPython/Jupyter users:** We will need to reload the `generator` and `h_HZ` objects here to replace the ones you have defined above. These will produce the same results, but the next code block uses the `multiprocessing` module which is incompatible with functions defined in iPython."
   ]
  },
  {
   "cell_type": "code",
   "execution_count": 10,
   "metadata": {},
   "outputs": [],
   "source": [
    "# Reload `generator` and `h_HZ`\n",
    "generator = Generator('imaging')\n",
    "from bioverse.hypothesis import h_HZ"
   ]
  },
  {
   "cell_type": "markdown",
   "metadata": {},
   "source": [
    "\n",
    "## Computing statistical power\n",
    "\n",
    "We have not yet tackled the most uncertain part of this analysis: namely, just how common are habitable worlds? The fraction of Earth-sized planets in the habitable zone with atmospheric water vapor could far smaller than the assumed 75%, in which case it might be impossible to test the habitable zone hypothesis. To quantify the importance of this assumption, we will need to repeat the previous analysis several times with different values of `f_water_habitable`.\n",
    "\n",
    "The `analysis` module enables this through its `test_hypothesis_grid()` function, which loops the planet simulation, survey simulation, and hypothesis test routines over a grid of input values. Let's use it to iterate over values of `f_water_habitable` ranging from 1% to 100%. For each value, we will repeat the analysis 20 times to average over Poisson noise.\n",
    "\n",
    "This may take a few minutes. To speed things up, we will run 8 processes in parallel (you may need to change this number for an older CPU)."
   ]
  },
  {
   "cell_type": "code",
   "execution_count": 11,
   "metadata": {},
   "outputs": [
    {
     "name": "stderr",
     "output_type": "stream",
     "text": [
      "100%|██████████| 200/200 [01:37<00:00,  2.06it/s]\n"
     ]
    }
   ],
   "source": [
    "f_water_habitable = np.logspace(-2, 0, 10)\n",
    "results = analysis.test_hypothesis_grid(h_HZ, generator, survey, f_water_habitable=f_water_habitable, t_total=10*365.25, processes=8, N=20)"
   ]
  },
  {
   "cell_type": "markdown",
   "metadata": {},
   "source": [
    "Now, let's plot the average Bayesian evidence for the hypothesis as a function of `f_water_habitable`."
   ]
  },
  {
   "cell_type": "code",
   "execution_count": 12,
   "metadata": {},
   "outputs": [
    {
     "data": {
      "image/png": "[encoded data removed]",
      "text/plain": [
       "<Figure size 432x288 with 1 Axes>"
      ]
     },
     "metadata": {
      "needs_background": "light"
     },
     "output_type": "display_data"
    }
   ],
   "source": [
    "plt.plot(f_water_habitable, results['dlnZ'].mean(axis=-1), lw=5)\n",
    "plt.xlabel('Fraction of EECs with H2O', fontsize=20)\n",
    "plt.ylabel('$\\Delta$lnZ', fontsize=20)\n",
    "plt.axhline(3, lw=5, c='black', linestyle='dashed')\n",
    "plt.xscale('log')"
   ]
  },
  {
   "cell_type": "markdown",
   "metadata": {},
   "source": [
    "A more useful metric than the average Bayesian evidence is the survey's \"statistical power\", which is the likelihood that the survey could successfully test the hypothesis under a certain set of assumptions. Run this cell to plot the statistical power versus the fraction of EECs with water vapor."
   ]
  },
  {
   "cell_type": "code",
   "execution_count": 13,
   "metadata": {},
   "outputs": [
    {
     "data": {
      "image/png": "[encoded data removed]",
      "text/plain": [
       "<Figure size 432x288 with 1 Axes>"
      ]
     },
     "metadata": {
      "needs_background": "light"
     },
     "output_type": "display_data"
    }
   ],
   "source": [
    "power = analysis.compute_statistical_power(results, method='dlnZ', threshold=3)\n",
    "plt.plot(f_water_habitable, power, lw=5)\n",
    "plt.xlabel('Fraction of EECs with H2O', fontsize=20)\n",
    "plt.ylabel('Statistical power', fontsize=20)\n",
    "plt.axhline(0.8, lw=5, c='black', linestyle='dashed')\n",
    "plt.xscale('log')"
   ]
  },
  {
   "cell_type": "markdown",
   "metadata": {},
   "source": [
    "We can see that a LUVOIR-like survey will be able to determine the existence of the habitable zone - but only if habitable planets are relatively common."
   ]
  }
 ],
 "metadata": {
  "interpreter": {
   "hash": "3dd1bae58f74bf20d8da1452b02c9f82b0404678f1d0078fc73ebd3bf8b9b030"
  },
  "kernelspec": {
   "display_name": "Python 3.8.3 64-bit ('base': conda)",
   "name": "python3"
  },
  "language_info": {
   "codemirror_mode": {
    "name": "ipython",
    "version": 3
   },
   "file_extension": ".py",
   "mimetype": "text/x-python",
   "name": "python",
   "nbconvert_exporter": "python",
   "pygments_lexer": "ipython3",
   "version": "3.8.3"
  }
 },
 "nbformat": 4,
 "nbformat_minor": 2
}