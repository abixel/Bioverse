{
 "cells": [
  {
   "cell_type": "markdown",
   "source": [
    "# Example 2: Detecting the age-oxygen correlation\n",
    "\n",
    "In Section 7 of [Bixel & Apai (2021)](https://ui.adsabs.harvard.edu/abs/2021AJ....161..228B/abstract) (and in [Bixel & Apai 2020](https://ui.adsabs.harvard.edu/abs/2020ApJ...896..131B/abstract)), we propose that Earth-like planets might have similar atmospheric evolution to Earth's, i.e. toward greater biogenic oxygen content over Gyr timescales. If so, this would imply a positive \"age-oxygen correlation\" between the fraction of Earth-like planets with atmospheric oxygen and their ages.\n",
    "\n",
    "In this example, you will use Bioverse to determine whether a [Nautilus](https://ui.adsabs.harvard.edu/abs/2019AJ....158...83A/abstract)-like transit spectroscopy survey could test this hypothesis.\n",
    "\n",
    "## Setup\n",
    "\n",
    "We will begin by importing modules from Bioverse"
   ],
   "metadata": {}
  },
  {
   "cell_type": "code",
   "execution_count": 1,
   "source": [
    "# Import numpy\n",
    "import numpy as np\n",
    "\n",
    "# Import the relevant modules\n",
    "from bioverse.survey import TransitSurvey\n",
    "from bioverse.generator import Generator\n",
    "from bioverse.hypothesis import Hypothesis\n",
    "from bioverse import analysis, plots\n",
    "\n",
    "\n",
    "# Import pyplot (for making plots later) and adjust some of its settings\n",
    "from matplotlib import pyplot as plt\n",
    "%matplotlib inline\n",
    "plt.rcParams['font.size'] = 20."
   ],
   "outputs": [],
   "metadata": {}
  },
  {
   "cell_type": "markdown",
   "source": [
    "In this example, we will use the simulator for a transit spectroscopy survey with an effecting diameter of 50 meters."
   ],
   "metadata": {}
  },
  {
   "cell_type": "code",
   "execution_count": 2,
   "source": [
    "generator = Generator('transit')\n",
    "survey = TransitSurvey('default')"
   ],
   "outputs": [],
   "metadata": {}
  },
  {
   "cell_type": "markdown",
   "source": [
    "## Injecting the statistical effect\n",
    "\n",
    "We propose that the fraction of Earth-like planets with oxygen-rich atmospheres should increase over Gyr timescales. We can simulate this in Bioverse using a function with two parameters:\n",
    "\n",
    "- `f_life`: the fraction of exo-Earth candidates with life\n",
    "\n",
    "- `t_half`: the \"half-life\" timescale over which inhabited planets become oxygenated\n",
    "\n",
    "Let's define a function and append it to the generator."
   ],
   "metadata": {}
  },
  {
   "cell_type": "code",
   "execution_count": 3,
   "source": [
    "def oxygen_evolution(d, f_life=0.8, t_half=3.):\n",
    "    # First, assign no O2 to all planets\n",
    "    d['has_O2'] = np.zeros(len(d))\n",
    "\n",
    "    # Calculate the probability that each EEC has O2 based on its age\n",
    "    EEC = d['EEC']\n",
    "    P = f_life * (1 - 0.5**(d['age'][EEC]/t_half))\n",
    "\n",
    "    # Randomly assign O2 to some EECs\n",
    "    d['has_O2'][EEC] = np.random.uniform(0, 1, EEC.sum()) < P\n",
    "\n",
    "    return d\n",
    "\n",
    "generator.insert_step(oxygen_evolution)"
   ],
   "outputs": [],
   "metadata": {}
  },
  {
   "cell_type": "markdown",
   "source": [
    "Next, we can simulate a dataset and investigate the relationship between the ages and oxygen content of EECs. For now, we assume `f_life` = 80% and `t_half` = 3 Gyr.\n",
    "\n",
    "Note that the transit survey is more readily capable of detecting ozone than O2, as it has broader and deeper absorption bands and mostly resides above the cloud deck. We assume O3 is a reliable proxy for O2."
   ],
   "metadata": {}
  },
  {
   "cell_type": "code",
   "execution_count": 4,
   "source": [
    "# Create the planet sample\n",
    "sample, detected, data = survey.quickrun(generator, f_life=0.8, t_half=3., t_total=10*365.25)\n",
    "\n",
    "# Extract measured ages and the presence of oxygen\n",
    "x, y = data['age'], data['has_O2']\n",
    "\n",
    "# Now plot the oxygen-rich/oxygen-poor planets versus age\n",
    "fig, ax = plt.subplots(figsize=(16, 2))\n",
    "ax.scatter(x, y)\n",
    "ax.set_yticks([0, 1])\n",
    "ax.set_xlim([0,10])\n",
    "ax.set_yticklabels(['no O$_2$','has O$_2$'],fontsize=24)\n",
    "ax.set_xlabel('Age (Gyr)',fontsize=24)\n",
    "\n",
    "plt.show()"
   ],
   "outputs": [
    {
     "output_type": "display_data",
     "data": {
      "image/png": "[encoded data removed]",
      "text/plain": [
       "<Figure size 1152x144 with 1 Axes>"
      ]
     },
     "metadata": {
      "needs_background": "light"
     }
    }
   ],
   "metadata": {}
  },
  {
   "cell_type": "markdown",
   "source": [
    "As in Example 1, the expected trend appears to be present i.e. the presence of oxygen (via its proxy ozone) appears to correlate with age. But is this trend statistically significant?\n",
    "\n",
    "## Defining the hypothesis\n",
    "\n",
    "To answer this, we will define a new Hypothesis. The functional form of this hypothesis will be the same as above i.e. a two-parameter decay rate function. As in the previous example, we must specify the names of the hypothesis parameters, independent variable (`age`), and dependent variable (`has_O2`) in the function signature. We again select log-uniform prior distributions for the two parameters:\n",
    "\n",
    "0.01 < `f_life` < 1\n",
    "\n",
    "0.3 < `t_half` < 30 Gyr"
   ],
   "metadata": {}
  },
  {
   "cell_type": "code",
   "execution_count": 5,
   "source": [
    "def f(theta, X):\n",
    "    f_life, t_half = theta\n",
    "    return f_life * (1-0.5**(X/t_half))\n",
    "\n",
    "params = ('f_life', 't_half')\n",
    "features = ('age',)\n",
    "labels = ('has_O2',)\n",
    "\n",
    "bounds = np.array([[0.01, 1], [0.3, 30]])\n",
    "h_age_oxygen = Hypothesis(f, bounds, params=params, features=features, labels=labels, log=(True, True))"
   ],
   "outputs": [],
   "metadata": {}
  },
  {
   "cell_type": "markdown",
   "source": [
    "We also need to define the null hypothesis, which states that the fraction of planets with O2 is (log-uniform) random between 0.001 to 1 and independent of age:"
   ],
   "metadata": {}
  },
  {
   "cell_type": "code",
   "execution_count": 6,
   "source": [
    "def f_null(theta, X):\n",
    "    shape = (np.shape(X)[0], 1)\n",
    "    return np.full(shape, theta)\n",
    "\n",
    "bounds_null = np.array([[0.001, 1.]])\n",
    "h_age_oxygen.h_null = Hypothesis(f_null, bounds_null, params=('f_O2',), features=features, labels=labels, log=(True,))"
   ],
   "outputs": [],
   "metadata": {}
  },
  {
   "cell_type": "markdown",
   "source": [
    "We can calculate the Bayesian evidence supporting `h_age_oxygen` in favor of `h_null` from our simulated dataset."
   ],
   "metadata": {}
  },
  {
   "cell_type": "code",
   "execution_count": 7,
   "source": [
    "results = h_age_oxygen.fit(data)\n",
    "print(\"The evidence in favor of the hypothesis is: dlnZ = {:.1f} (corresponds to p = {:.1E})\".format(results['dlnZ'], np.exp(-results['dlnZ'])))"
   ],
   "outputs": [
    {
     "output_type": "stream",
     "name": "stdout",
     "text": [
      "The evidence in favor of the hypothesis is: dlnZ = 9.9 (corresponds to p = 4.9E-05)\n"
     ]
    }
   ],
   "metadata": {}
  },
  {
   "cell_type": "markdown",
   "source": [
    "The default nested sampling test reveals some compelling evidence in favor of the hypothesis, but it may not be the most efficient test for this problem.\n",
    "\n",
    "We can also use the Mann-Whitney U test to determine whether the typical age of planets with oxygen-rich atmospheres is higher than that of oxygen-poor planets. This test should be more sensitive, as it makes no specific assumptions about the functional form of the correlation (i.e. `func` defined above is not used)."
   ],
   "metadata": {}
  },
  {
   "cell_type": "code",
   "execution_count": 8,
   "source": [
    "results = h_age_oxygen.fit(data, method='mannwhitney')\n",
    "print('Correlation detected with p = {:.1E} significance'.format(results['p']))"
   ],
   "outputs": [
    {
     "output_type": "stream",
     "name": "stdout",
     "text": [
      "Correlation detected with p = 1.2E-05 significance\n"
     ]
    }
   ],
   "metadata": {}
  },
  {
   "cell_type": "markdown",
   "source": [
    "Typically, the Mann-Whitney test detects the correlation with even greater significance (i.e. lower p-values)\n",
    "\n",
    "**Note for iPython/Jupyter users:** We will need to reload the `generator` and `h_age_oxygen` objects here to replace the ones you have defined above. These will produce the same results, but the next code block uses the `multiprocessing` module which is incompatible with functions defined in iPython."
   ],
   "metadata": {}
  },
  {
   "cell_type": "code",
   "execution_count": 9,
   "source": [
    "generator = Generator('transit')\n",
    "from bioverse.hypothesis import h_age_oxygen"
   ],
   "outputs": [],
   "metadata": {}
  },
  {
   "cell_type": "markdown",
   "source": [
    "## Computing statistical power\n",
    "\n",
    "Thus far, we have assumed the fraction of planets with life to be `f_life` = 80% and `t_half` = 3 Gyr. If fewer planets are inhabited, or if the evolutionary timescale is much longer than the maximum ages probed (~10 Gyr), then the correlation will be more difficult to detect. Let's test the sensitivity of our results to both of these parameters simultaneously using the `test_hypothesis_grid` function.\n",
    "\n",
    "Once again, we will use the more sensitive Mann-Whitney test to determine whether the correlation exists. This may take up to ten minutes - reduce `N_grid` for quicker results."
   ],
   "metadata": {}
  },
  {
   "cell_type": "code",
   "execution_count": 10,
   "source": [
    "N_grid = 8\n",
    "f_life = np.logspace(-1, 0, N_grid)\n",
    "t_half = np.logspace(np.log10(0.5), np.log10(50), N_grid)\n",
    "results = analysis.test_hypothesis_grid(h_age_oxygen, generator, survey, method='mannwhitney', f_life=f_life, t_half=t_half, N=20, processes=8, t_total=10*365.25)"
   ],
   "outputs": [
    {
     "output_type": "stream",
     "name": "stderr",
     "text": [
      "100%|██████████| 1280/1280 [10:18<00:00,  2.07it/s]\n"
     ]
    }
   ],
   "metadata": {}
  },
  {
   "cell_type": "markdown",
   "source": [
    "Now, we will use the `plot_power_grid()` function of the `plots` module to plot the statistical power of the survey (i.e. the fraction of tests achieving p < 0.05 significance) versus both parameters."
   ],
   "metadata": {}
  },
  {
   "cell_type": "code",
   "execution_count": 11,
   "source": [
    "plots.plot_power_grid(results, method='p', axes=('f_life', 't_half'), labels=('Fraction of EECs w/ life', 'Oxygenation timescale (Gyr)'), log=(True, True), levels=None)"
   ],
   "outputs": [
    {
     "output_type": "display_data",
     "data": {
      "image/png": "[encoded data removed]",
      "text/plain": [
       "<Figure size 720x576 with 2 Axes>"
      ]
     },
     "metadata": {
      "needs_background": "light"
     }
    }
   ],
   "metadata": {}
  },
  {
   "cell_type": "markdown",
   "source": [
    "The \"sweet spot\" where high statistical power is achieved is where life is common (`f_life` > 50%) and the oxygenation timescale falls within ~2-10 Gyr.\n",
    "\n",
    "We can also investigate the survey's sensitivity as a function of total survey time. Let's try values from 0.1 to 10 years, assuming `f_life` = 50% and `t_half` = 3 Gyr. This will take a few minutes."
   ],
   "metadata": {}
  },
  {
   "cell_type": "code",
   "execution_count": 12,
   "source": [
    "t_total = np.logspace(-1, 1, 10) * 365.25\n",
    "results = analysis.test_hypothesis_grid(h_age_oxygen, generator, survey, method='mannwhitney', f_life=0.5, N=20, processes=8, t_total=t_total)"
   ],
   "outputs": [
    {
     "output_type": "stream",
     "name": "stderr",
     "text": [
      " 71%|███████   | 142/200 [01:28<00:23,  2.49it/s]"
     ]
    }
   ],
   "metadata": {}
  },
  {
   "cell_type": "code",
   "execution_count": null,
   "source": [
    "fig, ax = plt.subplots(1, 2, figsize=(12, 4))\n",
    "\n",
    "ax[0].plot(t_total, results['p'].mean(axis=-1), lw=5)\n",
    "ax[0].set_xlabel('Total time (d)', fontsize=20)\n",
    "ax[0].set_ylabel('p', fontsize=20)\n",
    "ax[0].axhline(0.05, lw=5, c='black', linestyle='dashed')\n",
    "ax[0].set_xscale('log')\n",
    "\n",
    "power = analysis.compute_statistical_power(results, method='p', threshold=0.05)\n",
    "ax[1].plot(t_total, power, lw=5)\n",
    "ax[1].set_xlabel('Total time (d)', fontsize=20)\n",
    "ax[1].set_ylabel('Statistical power', fontsize=20)\n",
    "ax[1].axhline(0.8, lw=5, c='black', linestyle='dashed')\n",
    "ax[1].set_xscale('log')\n",
    "\n",
    "plt.subplots_adjust(wspace=0.5)"
   ],
   "outputs": [],
   "metadata": {}
  },
  {
   "cell_type": "markdown",
   "source": [
    "Approximately 1-2 years will be required to detect the correlation under these assumptions."
   ],
   "metadata": {}
  }
 ],
 "metadata": {
  "interpreter": {
   "hash": "9805f964417e1fb5bf47cad3ce563e418ccf3a95b9919f79d65dd2cee73654e5"
  },
  "kernelspec": {
   "name": "python3",
   "display_name": "Python 3.8.8 64-bit ('base': conda)"
  },
  "language_info": {
   "codemirror_mode": {
    "name": "ipython",
    "version": 3
   },
   "file_extension": ".py",
   "mimetype": "text/x-python",
   "name": "python",
   "nbconvert_exporter": "python",
   "pygments_lexer": "ipython3",
   "version": "3.8.8"
  },
  "orig_nbformat": 4
 },
 "nbformat": 4,
 "nbformat_minor": 2
}